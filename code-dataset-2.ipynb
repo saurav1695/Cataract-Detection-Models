{
 "cells": [
  {
   "cell_type": "code",
   "execution_count": 17,
   "metadata": {},
   "outputs": [],
   "source": [
    "import numpy as np # linear algebra\n",
    "import pandas as pd # data processing, CSV file I/O (e.g. pd.read_csv)\n",
    "import cv2\n",
    "import random\n",
    "import pickle\n",
    "from tqdm import tqdm\n",
    "import matplotlib.pyplot as plt\n",
    "from tensorflow.keras.preprocessing.image import ImageDataGenerator\n",
    "import os\n",
    "for dirname, _, filenames in os.walk('./dataset-2'):\n",
    "    for filename in filenames:\n",
    "        os.path.join(dirname, filename)"
   ]
  },
  {
   "cell_type": "code",
   "execution_count": 18,
   "metadata": {},
   "outputs": [],
   "source": [
    "df = pd.read_csv(\"./dataset-2/full_df.csv\")\n",
    "# df.head()"
   ]
  },
  {
   "cell_type": "code",
   "execution_count": 19,
   "metadata": {},
   "outputs": [],
   "source": [
    "def has_cataract(text):\n",
    "    if \"cataract\" in text:\n",
    "        return 1\n",
    "    else:\n",
    "        return 0"
   ]
  },
  {
   "cell_type": "code",
   "execution_count": 20,
   "metadata": {},
   "outputs": [
    {
     "data": {
      "text/plain": [
       "1    0\n",
       "2    0\n",
       "3    0\n",
       "4    0\n",
       "Name: right_cataract, dtype: int64"
      ]
     },
     "execution_count": 20,
     "metadata": {},
     "output_type": "execute_result"
    }
   ],
   "source": [
    "df[\"left_cataract\"] = df[\"Left-Diagnostic Keywords\"].apply(lambda x: has_cataract(x))\n",
    "df[\"right_cataract\"] = df[\"Right-Diagnostic Keywords\"].apply(lambda x: has_cataract(x))\n",
    "df[\"right_cataract\"][1:5]"
   ]
  },
  {
   "cell_type": "code",
   "execution_count": 21,
   "metadata": {},
   "outputs": [],
   "source": [
    "left_cataract = df.loc[(df.C ==1) & (df.left_cataract == 1)][\"Left-Fundus\"].values\n",
    "right_cataract = df.loc[(df.C ==1) & (df.right_cataract == 1)][\"Right-Fundus\"].values"
   ]
  },
  {
   "cell_type": "code",
   "execution_count": 22,
   "metadata": {},
   "outputs": [
    {
     "name": "stdout",
     "output_type": "stream",
     "text": [
      "Number of images in left cataract: 304\n",
      "Number of images in right cataract: 290\n"
     ]
    }
   ],
   "source": [
    "print(\"Number of images in left cataract: {}\".format(len(left_cataract)))\n",
    "print(\"Number of images in right cataract: {}\".format(len(right_cataract)))"
   ]
  },
  {
   "cell_type": "code",
   "execution_count": 23,
   "metadata": {},
   "outputs": [],
   "source": [
    "left_normal = df.loc[(df.C ==0) & (df[\"Left-Diagnostic Keywords\"] == \"normal fundus\")][\"Left-Fundus\"].sample(250,random_state=42).values\n",
    "right_normal = df.loc[(df.C ==0) & (df[\"Right-Diagnostic Keywords\"] == \"normal fundus\")][\"Right-Fundus\"].sample(250,random_state=42).values"
   ]
  },
  {
   "cell_type": "code",
   "execution_count": 24,
   "metadata": {},
   "outputs": [
    {
     "name": "stdout",
     "output_type": "stream",
     "text": [
      "594 500\n"
     ]
    }
   ],
   "source": [
    "cataract = np.concatenate((left_cataract,right_cataract),axis=0)\n",
    "normal = np.concatenate((left_normal,right_normal),axis=0)\n",
    "print(len(cataract),len(normal))"
   ]
  },
  {
   "cell_type": "code",
   "execution_count": 25,
   "metadata": {},
   "outputs": [],
   "source": [
    "from tensorflow.keras.preprocessing.image import load_img,img_to_array\n",
    "dataset_dir = \"./dataset-2/preprocessed_images\"\n",
    "image_size=224\n",
    "labels = []\n",
    "dataset = []\n",
    "def create_dataset(image_category,label):\n",
    "    for img in tqdm(image_category):\n",
    "        image_path = os.path.join(dataset_dir,img)\n",
    "        try:\n",
    "            image = cv2.imread(image_path,cv2.IMREAD_COLOR)\n",
    "            image = cv2.resize(image,(image_size,image_size))\n",
    "\n",
    "        except:\n",
    "            continue\n",
    "        \n",
    "        dataset.append([np.array(image),np.array(label)])\n",
    "    random.shuffle(dataset)\n",
    "    return dataset\n",
    "        "
   ]
  },
  {
   "cell_type": "code",
   "execution_count": 26,
   "metadata": {},
   "outputs": [
    {
     "name": "stderr",
     "output_type": "stream",
     "text": [
      "100%|██████████| 594/594 [00:02<00:00, 252.21it/s]\n",
      "100%|██████████| 500/500 [00:02<00:00, 238.15it/s]\n"
     ]
    }
   ],
   "source": [
    "dataset = create_dataset(cataract,1)\n",
    "dataset = create_dataset(normal,0)"
   ]
  },
  {
   "cell_type": "code",
   "execution_count": 27,
   "metadata": {},
   "outputs": [],
   "source": [
    "x = np.array([i[0] for i in dataset]).reshape(-1,image_size,image_size,3)\n",
    "y = np.array([i[1] for i in dataset])"
   ]
  },
  {
   "cell_type": "code",
   "execution_count": 28,
   "metadata": {},
   "outputs": [],
   "source": [
    "from sklearn.model_selection import train_test_split\n",
    "x_train,x_test,y_train,y_test = train_test_split(x,y,test_size=0.2)"
   ]
  },
  {
   "cell_type": "code",
   "execution_count": 15,
   "metadata": {},
   "outputs": [
    {
     "name": "stdout",
     "output_type": "stream",
     "text": [
      "\n",
      "Logistic Regression Classifier\n",
      "Accuracy: 0.8807339449541285\n",
      "Precision: 0.8439716312056738\n",
      "Recall: 0.967479674796748\n",
      "F1 Score: 0.9015151515151516\n",
      "Confusion Matrix:\n",
      "[[ 73  22]\n",
      " [  4 119]]\n"
     ]
    }
   ],
   "source": [
    "from sklearn.tree import DecisionTreeClassifier\n",
    "from sklearn.svm import SVC\n",
    "from sklearn.linear_model import LogisticRegression\n",
    "from sklearn.metrics import accuracy_score, precision_score, recall_score, f1_score, confusion_matrix\n",
    "\n",
    "# Decision Tree Classifier\n",
    "dt = DecisionTreeClassifier()\n",
    "dt.fit(x_train.reshape(x_train.shape[0], -1), y_train)\n",
    "dt_y_pred = dt.predict(x_test.reshape(x_test.shape[0], -1))\n",
    "\n",
    "print(\"Decision Tree Classifier\")\n",
    "print(\"Accuracy:\", accuracy_score(y_test, dt_y_pred))\n",
    "print(\"Precision:\", precision_score(y_test, dt_y_pred))\n",
    "print(\"Recall:\", recall_score(y_test, dt_y_pred))\n",
    "print(\"F1 Score:\", f1_score(y_test, dt_y_pred))\n",
    "print(\"Confusion Matrix:\")\n",
    "print(confusion_matrix(y_test, dt_y_pred))\n",
    "\n",
    "# SVM Classifier\n",
    "svm = SVC()\n",
    "svm.fit(x_train.reshape(x_train.shape[0], -1), y_train)\n",
    "svm_y_pred = svm.predict(x_test.reshape(x_test.shape[0], -1))\n",
    "\n",
    "print(\"\\nSVM Classifier\")\n",
    "print(\"Accuracy:\", accuracy_score(y_test, svm_y_pred))\n",
    "print(\"Precision:\", precision_score(y_test, svm_y_pred))\n",
    "print(\"Recall:\", recall_score(y_test, svm_y_pred))\n",
    "print(\"F1 Score:\", f1_score(y_test, svm_y_pred))\n",
    "print(\"Confusion Matrix:\")\n",
    "print(confusion_matrix(y_test, svm_y_pred))\n",
    "\n",
    "\n",
    "# Logistic Regression Classifier\n",
    "lr = LogisticRegression(max_iter=2000,solver='saga')\n",
    "lr.fit(x_train.reshape(x_train.shape[0], -1), y_train)\n",
    "lr_y_pred = lr.predict(x_test.reshape(x_test.shape[0], -1))\n",
    "\n",
    "print(\"\\nLogistic Regression Classifier\")\n",
    "print(\"Accuracy:\", accuracy_score(y_test, lr_y_pred))\n",
    "print(\"Precision:\", precision_score(y_test, lr_y_pred))\n",
    "print(\"Recall:\", recall_score(y_test, lr_y_pred))\n",
    "print(\"F1 Score:\", f1_score(y_test, lr_y_pred))\n",
    "print(\"Confusion Matrix:\")\n",
    "print(confusion_matrix(y_test, lr_y_pred))\n"
   ]
  },
  {
   "cell_type": "code",
   "execution_count": 29,
   "metadata": {},
   "outputs": [
    {
     "name": "stdout",
     "output_type": "stream",
     "text": [
      "Decision Tree Classifier\n",
      "Accuracy: 0.8119266055045872\n",
      "Precision: 0.803030303030303\n",
      "Recall: 0.8760330578512396\n",
      "F1 Score: 0.8379446640316206\n",
      "Confusion Matrix:\n",
      "[[ 71  26]\n",
      " [ 15 106]]\n",
      "\n",
      "SVM Classifier\n",
      "Accuracy: 0.7889908256880734\n",
      "Precision: 0.8048780487804879\n",
      "Recall: 0.8181818181818182\n",
      "F1 Score: 0.8114754098360656\n",
      "Confusion Matrix:\n",
      "[[73 24]\n",
      " [22 99]]\n"
     ]
    }
   ],
   "source": [
    "from sklearn.tree import DecisionTreeClassifier\n",
    "from sklearn.svm import SVC\n",
    "from sklearn.linear_model import LogisticRegression\n",
    "from sklearn.metrics import accuracy_score, precision_score, recall_score, f1_score, confusion_matrix\n",
    "\n",
    "# Decision Tree Classifier\n",
    "dt = DecisionTreeClassifier()\n",
    "dt.fit(x_train.reshape(x_train.shape[0], -1), y_train)\n",
    "dt_y_pred = dt.predict(x_test.reshape(x_test.shape[0], -1))\n",
    "\n",
    "print(\"Decision Tree Classifier\")\n",
    "print(\"Accuracy:\", accuracy_score(y_test, dt_y_pred))\n",
    "print(\"Precision:\", precision_score(y_test, dt_y_pred))\n",
    "print(\"Recall:\", recall_score(y_test, dt_y_pred))\n",
    "print(\"F1 Score:\", f1_score(y_test, dt_y_pred))\n",
    "print(\"Confusion Matrix:\")\n",
    "print(confusion_matrix(y_test, dt_y_pred))\n",
    "\n",
    "# SVM Classifier\n",
    "svm = SVC()\n",
    "svm.fit(x_train.reshape(x_train.shape[0], -1), y_train)\n",
    "svm_y_pred = svm.predict(x_test.reshape(x_test.shape[0], -1))\n",
    "\n",
    "print(\"\\nSVM Classifier\")\n",
    "print(\"Accuracy:\", accuracy_score(y_test, svm_y_pred))\n",
    "print(\"Precision:\", precision_score(y_test, svm_y_pred))\n",
    "print(\"Recall:\", recall_score(y_test, svm_y_pred))\n",
    "print(\"F1 Score:\", f1_score(y_test, svm_y_pred))\n",
    "print(\"Confusion Matrix:\")\n",
    "print(confusion_matrix(y_test, svm_y_pred))"
   ]
  },
  {
   "cell_type": "code",
   "execution_count": 39,
   "metadata": {},
   "outputs": [
    {
     "name": "stdout",
     "output_type": "stream",
     "text": [
      "                     Accuracy  Precision    Recall  F1 Score\n",
      "Classifier                                                  \n",
      "Decision Tree        0.811927   0.803030  0.876033  0.837945\n",
      "SVM                  0.788991   0.804878  0.818182  0.811475\n",
      "Logistic Regression  0.550459   0.581560  0.677686  0.625954\n"
     ]
    }
   ],
   "source": [
    "import pandas as pd\n",
    "\n",
    "# Create a dictionary to store the results of the different classifiers\n",
    "results = {\n",
    "    'Classifier': ['Decision Tree', 'SVM', 'Logistic Regression'],\n",
    "    'Accuracy': [accuracy_score(y_test, dt_y_pred), accuracy_score(y_test, svm_y_pred), accuracy_score(y_test, lr_y_pred)],\n",
    "    'Precision': [precision_score(y_test, dt_y_pred), precision_score(y_test, svm_y_pred), precision_score(y_test, lr_y_pred)],\n",
    "    'Recall': [recall_score(y_test, dt_y_pred), recall_score(y_test, svm_y_pred), recall_score(y_test, lr_y_pred)],\n",
    "    'F1 Score': [f1_score(y_test, dt_y_pred), f1_score(y_test, svm_y_pred), f1_score(y_test, lr_y_pred)]\n",
    "}\n",
    "\n",
    "# Create a DataFrame from the results dictionary\n",
    "df = pd.DataFrame(results)\n",
    "\n",
    "# Set the 'Classifier' column as the index of the DataFrame\n",
    "df.set_index('Classifier', inplace=True)\n",
    "\n",
    "# Print the DataFrame\n",
    "print(df)\n"
   ]
  }
 ],
 "metadata": {
  "kernelspec": {
   "display_name": "Python 3",
   "language": "python",
   "name": "python3"
  },
  "language_info": {
   "codemirror_mode": {
    "name": "ipython",
    "version": 3
   },
   "file_extension": ".py",
   "mimetype": "text/x-python",
   "name": "python",
   "nbconvert_exporter": "python",
   "pygments_lexer": "ipython3",
   "version": "3.10.9"
  },
  "orig_nbformat": 4
 },
 "nbformat": 4,
 "nbformat_minor": 2
}
